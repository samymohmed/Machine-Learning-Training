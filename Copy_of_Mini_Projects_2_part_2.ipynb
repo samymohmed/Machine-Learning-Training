{
  "nbformat": 4,
  "nbformat_minor": 0,
  "metadata": {
    "colab": {
      "name": "Copy of Mini_Projects_2/ part 2.ipynb",
      "provenance": [],
      "toc_visible": true,
      "include_colab_link": true
    },
    "kernelspec": {
      "name": "python3",
      "display_name": "Python 3"
    }
  },
  "cells": [
    {
      "cell_type": "markdown",
      "metadata": {
        "id": "view-in-github",
        "colab_type": "text"
      },
      "source": [
        "<a href=\"https://colab.research.google.com/github/samymohmed/Machine-Learning-Training/blob/main/Copy_of_Mini_Projects_2_part_2.ipynb\" target=\"_parent\"><img src=\"https://colab.research.google.com/assets/colab-badge.svg\" alt=\"Open In Colab\"/></a>"
      ]
    },
    {
      "cell_type": "markdown",
      "metadata": {
        "id": "c2sSEq3uSurn"
      },
      "source": [
        "# Files and Exceptions"
      ]
    },
    {
      "cell_type": "markdown",
      "metadata": {
        "id": "qw2XyRs-TWIF"
      },
      "source": [
        "**8. Sum of Numbers** <br>\n",
        "Assume that a file containing a series of integers is named numbers.txt and exists on the computer’s disk. Write a program that reads all of the numbers stored in the file and calculates their total.\n"
      ]
    },
    {
      "cell_type": "code",
      "metadata": {
        "id": "92EStR9KSu8N",
        "colab": {
          "base_uri": "https://localhost:8080/"
        },
        "outputId": "00d64e7a-eb4b-40ea-dc87-d942c0d05f7e"
      },
      "source": [
        "infile = open('/content/drive/MyDrive/numbers.txt','r')\n",
        "\n",
        "def main():\n",
        "\n",
        " total = 0;\n",
        "\n",
        " for val in infile:\n",
        "   line = int(val)\n",
        "   total = total +line\n",
        "\n",
        " print('the sum in your folder is:',total)\n",
        "infile.close\n",
        "main()"
      ],
      "execution_count": 13,
      "outputs": [
        {
          "output_type": "stream",
          "text": [
            "the sum in your folder is: 25\n"
          ],
          "name": "stdout"
        }
      ]
    },
    {
      "cell_type": "code",
      "metadata": {
        "id": "LsRRvv10XNku"
      },
      "source": [
        ""
      ],
      "execution_count": null,
      "outputs": []
    },
    {
      "cell_type": "code",
      "metadata": {
        "colab": {
          "base_uri": "https://localhost:8080/"
        },
        "id": "ii7e5XiQdVD1",
        "outputId": "1d428518-4250-4009-f33b-8b9e1b1fbbcf"
      },
      "source": [
        "from google.colab import drive\n",
        "drive.mount('/content/drive')"
      ],
      "execution_count": 8,
      "outputs": [
        {
          "output_type": "stream",
          "text": [
            "Mounted at /content/drive\n"
          ],
          "name": "stdout"
        }
      ]
    },
    {
      "cell_type": "code",
      "metadata": {
        "id": "B7GImG_lSu-u"
      },
      "source": [
        ""
      ],
      "execution_count": null,
      "outputs": []
    },
    {
      "cell_type": "markdown",
      "metadata": {
        "id": "gW0mWcdDVgK4"
      },
      "source": [
        "**9. Average of Numbers** <br>\n",
        "Assume that a file containing a series of integers is named numbers.txt and exists on the computer’s disk. Write a program that calculates the average of all the numbers stored in\n",
        "the file"
      ]
    },
    {
      "cell_type": "code",
      "metadata": {
        "id": "3-DZx-vnSvCe",
        "colab": {
          "base_uri": "https://localhost:8080/"
        },
        "outputId": "1ae29912-122a-4a5e-fc5e-52f1d4c8bc9f"
      },
      "source": [
        "infile = open('/content/drive/MyDrive/numbers.txt','r')\n",
        "\n",
        "def main():\n",
        "  total =0.0;\n",
        "\n",
        "  for val in infile:\n",
        "    line = int(val)\n",
        "    total = total + line;\n",
        "  \n",
        "  avg = total / len(numbers);\n",
        "\n",
        "  print('the avarage of numbers is:', avg)\n",
        "\n",
        "main()"
      ],
      "execution_count": 15,
      "outputs": [
        {
          "output_type": "stream",
          "text": [
            "the avarage of numbers is: 6.25\n"
          ],
          "name": "stdout"
        }
      ]
    },
    {
      "cell_type": "markdown",
      "metadata": {
        "id": "vjchCYETVwPx"
      },
      "source": [
        "**10. Random Number File Writer**<br>\n",
        "Write a program that writes a series of random numbers to a file. Each random number should be in the range of 1 \n",
        "through 500. The application should let the user specify how\n",
        "many random numbers the file will hold.\n"
      ]
    },
    {
      "cell_type": "code",
      "metadata": {
        "id": "DCyba_BZVxLF",
        "colab": {
          "base_uri": "https://localhost:8080/"
        },
        "outputId": "b9329606-b034-4d37-ab97-8e4675e7a68a"
      },
      "source": [
        "import random\n",
        "infile = open('rand.txt','w')\n",
        "\n",
        "\n",
        "for i in range(int(input('your quantity of numbers:'))):\n",
        "      line = str(random.randint(1,500));\n",
        "      infile.write(line)\n",
        "      print('value: ',line)\n",
        "\n",
        "\n",
        "    \n",
        "infile.close()\n",
        "\n",
        "\n",
        "\n",
        "\n"
      ],
      "execution_count": 16,
      "outputs": [
        {
          "output_type": "stream",
          "text": [
            "your quantity of numbers:5\n",
            "value:  9\n",
            "value:  390\n",
            "value:  455\n",
            "value:  285\n",
            "value:  85\n"
          ],
          "name": "stdout"
        }
      ]
    },
    {
      "cell_type": "code",
      "metadata": {
        "id": "uZ7CQJM0VxN5"
      },
      "source": [
        ""
      ],
      "execution_count": null,
      "outputs": []
    },
    {
      "cell_type": "markdown",
      "metadata": {
        "id": "p75ZKqbXWMdY"
      },
      "source": [
        "**11.  Exception Handing** <br>\n",
        "Modify the program that you wrote for Exercise 9 so it handles the following exceptions: <br>\n",
        "* It should handle any IOError exceptions that are raised when the file is opened and data\n",
        "is read from it. <br>\n",
        "* It should handle any ValueError exceptions that are raised when the items that are read from the file are converted to a number."
      ]
    },
    {
      "cell_type": "code",
      "metadata": {
        "id": "22SOHQbrVxRE",
        "colab": {
          "base_uri": "https://localhost:8080/"
        },
        "outputId": "a18cbab5-6f8f-48f4-8379-370f5bf8ce05"
      },
      "source": [
        "\n",
        "def main():\n",
        "  total = 0.0\n",
        "try:\n",
        "    infile = open('/content/drive/MyDrive/numbers.txt','r')\n",
        "    total = 0;\n",
        "    for val in infile:\n",
        "      line = int(val)\n",
        "      total = total + line;\n",
        "      avg = total / len(numbers);\n",
        "    infile.close()\n",
        "    print('the avarage of numbers is:', avg)\n",
        "except IOError:\n",
        "    print('check your file')\n",
        "except ValueError:\n",
        "    print('there is an error in your value please check again')\n",
        "\n",
        "main()"
      ],
      "execution_count": 34,
      "outputs": [
        {
          "output_type": "stream",
          "text": [
            "the avarage of numbers is: 6.25\n"
          ],
          "name": "stdout"
        }
      ]
    },
    {
      "cell_type": "code",
      "metadata": {
        "id": "3p0MENR_WrBV"
      },
      "source": [
        ""
      ],
      "execution_count": null,
      "outputs": []
    }
  ]
}